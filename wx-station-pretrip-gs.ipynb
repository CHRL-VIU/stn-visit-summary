{
 "cells": [
  {
   "cell_type": "markdown",
   "id": "15917628-c497-4d6c-8bcb-7226cfca88ce",
   "metadata": {},
   "source": [
    "# CHRL Wx Station Pretrip Report\n",
    "Script for use with '**Weather Station Visit Form**' GoogleSheet (== googlesheet automatically updated by device magic)"
   ]
  },
  {
   "cell_type": "code",
   "execution_count": 52,
   "id": "dc283de3-53f6-445d-8d13-b3cc95d8cd0d",
   "metadata": {
    "tags": []
   },
   "outputs": [],
   "source": [
    "import gspread\n",
    "import pandas as pd\n",
    "import numpy as np\n",
    "from datetime import date"
   ]
  },
  {
   "cell_type": "markdown",
   "id": "b9cbc32e-f264-421d-86b3-0c5174de6821",
   "metadata": {},
   "source": [
    "**USER INPUTS:**"
   ]
  },
  {
   "cell_type": "code",
   "execution_count": null,
   "id": "5928dc45-e4fd-4126-ae36-b92f8d70a85b",
   "metadata": {},
   "outputs": [],
   "source": [
    "# Select station\n",
    "station = 'Steph 3'\n",
    "# Select number of recent entries to include\n",
    "num_entries = 5"
   ]
  },
  {
   "cell_type": "code",
   "execution_count": 53,
   "id": "45bb08c2-0d22-4135-b59a-97ed54b7a310",
   "metadata": {
    "tags": []
   },
   "outputs": [],
   "source": [
    "# provide credentials and acccess googlesheet\n",
    "gc = gspread.service_account(filename=r'C:\\Users\\OCONNORB\\AppData\\Local\\gspread\\python-pull-wxstation-dmforms-1c0dcc60196b.json')\n",
    "sh = gc.open(\"Weather Station Visit Form\")\n",
    "\n",
    "# pull wx station visit sheet and put in dataframe\n",
    "worksheet = sh.sheet1;\n",
    "df = pd.DataFrame(worksheet.get_all_records())\n",
    "\n",
    "# drop duplicates created by snow course (= multiple entries per visit) *unless we want snow course info?\n",
    "df.drop_duplicates(subset=['submissionid'], inplace=True, ignore_index=True)\n",
    "\n",
    "# get entries for target station\n",
    "df = df.loc[np.where(np.any(df == station, axis=1))]\n",
    "\n",
    "# select columns to keep in table and define new column names for each\n",
    "cols2keep = ['Job_Start_Time', \n",
    "             'User',\n",
    "             'What_jobs_are_being_completed_.Snow_Course',\n",
    "             'What_jobs_are_being_completed_.Drone_Survey',\n",
    "             'What_jobs_are_being_completed_.CF',\n",
    "             'What_jobs_are_being_completed_.Sensor_Change',\n",
    "             'What_jobs_are_being_completed_.Precip_Gage',\n",
    "             'What_jobs_are_being_completed_.Lys_Calibration',\n",
    "             'What_jobs_are_being_completed_.Tipping_Bucket_Calibration',\n",
    "             'What_jobs_are_being_completed_.Data_Download',\n",
    "             'What_jobs_are_being_completed_.General_Maintenance',\n",
    "             'Sensor_Change.Type_of_Sensor',\n",
    "             'Sensor_Change.Why_is_the_sensor_being_changed',\n",
    "             'Sensor_Change.Additional_Notes',\n",
    "             'General_Notes']\n",
    "new_colnames = ['date', 'users', 'snow_course', 'drone', 'CF', 'sens_change', 'p_gage', 'lys_cal', 'buck_cal', 'data', 'gen_maint', 'sens_changed','reason', 'sens_notes', 'general_notes']\n",
    "\n",
    "# get selected columns\n",
    "df = df[cols2keep].set_axis(new_colnames, axis='columns')\n",
    "\n",
    "# find the n most recent entries\n",
    "df = df.sort_values(by=\"date\")\n",
    "df_table = df.iloc[-5:, :].copy()\n",
    "\n",
    "# clean up for table\n",
    "df_table[df_table == 'no'] = ' '\n",
    "df_table[df_table == 'yes'] = 'Y'\n",
    "\n",
    "# convert to html file\n",
    "filestr = station.replace(\" \", \"\").replace(\"-\", \"\") + '_pretrip_' + date.today().strftime(\"%d %b %Y\").replace(\" \", \"\") + '.html'\n",
    "df_table.to_html(open(filestr, 'w', encoding=\"utf-8\"), index=False)\n",
    "\n",
    "# some code for pdf conversion (missing config definition above)\n",
    "# with open(station.replace(\" \", \"\") + '_pretrip_example.html') as f:\n",
    "#     pdfkit.from_file(f, station.replace(\" \", \"\") + '_pretrip_example.pdf',configuration=config)"
   ]
  }
 ],
 "metadata": {
  "kernelspec": {
   "display_name": "Python [conda env:chrl]",
   "language": "python",
   "name": "conda-env-chrl-py"
  },
  "language_info": {
   "codemirror_mode": {
    "name": "ipython",
    "version": 3
   },
   "file_extension": ".py",
   "mimetype": "text/x-python",
   "name": "python",
   "nbconvert_exporter": "python",
   "pygments_lexer": "ipython3",
   "version": "3.12.3"
  }
 },
 "nbformat": 4,
 "nbformat_minor": 5
}
