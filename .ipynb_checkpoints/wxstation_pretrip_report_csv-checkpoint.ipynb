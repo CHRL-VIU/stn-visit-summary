{
 "cells": [
  {
   "cell_type": "markdown",
   "id": "da122312-f815-4f84-97f3-3bd650fb63af",
   "metadata": {},
   "source": [
    "# CHRL Wx Station Pretrip Report\n",
    "Script for use with '**Weather Station Visit CSV_UPLOAD**' GoogleSheet (== .csv file downloaded directly from device magic and uploaded as Weather Station Visit CSV_UPLOAD GoogleSheet)"
   ]
  },
  {
   "cell_type": "code",
   "execution_count": 30,
   "id": "3a6dddcd-cf98-454d-8b77-49386967a728",
   "metadata": {
    "tags": []
   },
   "outputs": [],
   "source": [
    "import gspread\n",
    "import pandas as pd\n",
    "import numpy as np\n",
    "from datetime import date\n",
    "from matplotlib.backends.backend_pdf import PdfPages"
   ]
  },
  {
   "cell_type": "markdown",
   "id": "06ed2fcc-f4e1-42d0-b7ba-7dcf4d87d2a3",
   "metadata": {},
   "source": [
    "**USER INPUTS:**"
   ]
  },
  {
   "cell_type": "code",
   "execution_count": 31,
   "id": "8c086081-ad6a-4e83-9f4c-8b4764f1f94e",
   "metadata": {
    "tags": []
   },
   "outputs": [],
   "source": [
    "# Select station\n",
    "station = 'Steph 8'\n",
    "# Select number of recent entries to include\n",
    "num_entries = 5"
   ]
  },
  {
   "cell_type": "code",
   "execution_count": 32,
   "id": "8f2275dd-fc57-43f1-9fab-01f98be8825d",
   "metadata": {
    "tags": []
   },
   "outputs": [],
   "source": [
    "# provide credentials and acccess googlesheet\n",
    "gc = gspread.service_account(filename=r'C:\\Users\\OCONNORB\\AppData\\Local\\gspread\\python-pull-wxstation-dmforms-1c0dcc60196b.json')\n",
    "sh = gc.open(\"Weather Station Visit CSV_UPLOAD\")\n",
    "\n",
    "# pull wx station visit sheet and put in dataframe\n",
    "worksheet = sh.sheet1;\n",
    "df = pd.DataFrame(worksheet.get_all_records())\n",
    "\n",
    "# drop duplicates created by snow course (= multiple entries per visit) *unless we want snow course info?\n",
    "df.drop_duplicates(subset=['Submission ID'], inplace=True, ignore_index=True)\n",
    "\n",
    "# get entries for target station\n",
    "df = df.loc[np.where(np.any(df == station, axis=1))]\n",
    "\n",
    "# select columns to keep in table and define new column names for each\n",
    "cols2keep = ['Job Start Time', 'User',\n",
    "       'What jobs are being completed? : Snow Course',\n",
    "       'What jobs are being completed? : Drone Survey',\n",
    "       'What jobs are being completed? : CF',\n",
    "       'What jobs are being completed? : Sensor Change',\n",
    "       'What jobs are being completed? : Precip Gage',\n",
    "       'What jobs are being completed? : Lys Calibration',\n",
    "       'What jobs are being completed? : Tipping Bucket Calibration',\n",
    "       'What jobs are being completed? : Data Download',\n",
    "       'What jobs are being completed? : General Maintenance',\n",
    "       'Sensor Change : Type of Sensor',\n",
    "       'Sensor Change : Why is the sensor being changed',\n",
    "       'Sensor Change : Additional Notes',\n",
    "       'General Notes']\n",
    "new_colnames = ['date', 'users', 'snow_course', 'drone', 'CF', 'sens_change', 'p_gage', 'lys_cal', 'buck_cal', 'data', 'gen_maint', 'sens_changed','reason', 'sens_notes', 'general_notes'] # GS\n",
    "        \n",
    "# get selected columns\n",
    "df = df[cols2keep].set_axis(new_colnames, axis='columns')\n",
    "\n",
    "# find the n most recent entries\n",
    "df = df.sort_values(by=\"date\")\n",
    "df_table = df.iloc[-5:, :].copy()\n",
    "\n",
    "# clean up for table\n",
    "df_table[df_table == 'no'] = ' '\n",
    "df_table[df_table == 'yes'] = 'Y'\n",
    "\n",
    "# convert to html file\n",
    "filestr = station.replace(\" \", \"\").replace(\"-\", \"\") + '_pretrip_' + date.today().strftime(\"%d %b %Y\").replace(\" \", \"\") + '.html'\n",
    "df_table.to_html(open(filestr, 'w', encoding=\"utf-8\"), index=False)"
   ]
  }
 ],
 "metadata": {
  "kernelspec": {
   "display_name": "Python [conda env:chrl]",
   "language": "python",
   "name": "conda-env-chrl-py"
  },
  "language_info": {
   "codemirror_mode": {
    "name": "ipython",
    "version": 3
   },
   "file_extension": ".py",
   "mimetype": "text/x-python",
   "name": "python",
   "nbconvert_exporter": "python",
   "pygments_lexer": "ipython3",
   "version": "3.12.3"
  }
 },
 "nbformat": 4,
 "nbformat_minor": 5
}
